{
  "nbformat": 4,
  "nbformat_minor": 0,
  "metadata": {
    "colab": {
      "name": "Task 1, 2 and 3",
      "provenance": [],
      "collapsed_sections": []
    },
    "kernelspec": {
      "name": "python3",
      "display_name": "Python 3"
    },
    "language_info": {
      "name": "python"
    }
  },
  "cells": [
    {
      "cell_type": "markdown",
      "metadata": {
        "id": "bA5XSya6OCJE"
      },
      "source": [
        "**Task 1:**\n",
        "\n",
        " How to get the address of a variable"
      ]
    },
    {
      "cell_type": "code",
      "metadata": {
        "colab": {
          "base_uri": "https://localhost:8080/"
        },
        "id": "jLPd_9EGgtx3",
        "outputId": "0496d9e8-dd7b-4525-96c5-ca2d4326f708"
      },
      "source": [
        "x = 4\n",
        "Z = 4\n",
        "print (hex(id(x)))\n",
        "print (hex(id(Z)))"
      ],
      "execution_count": null,
      "outputs": [
        {
          "output_type": "stream",
          "name": "stdout",
          "text": [
            "0x55c2c76b4a60\n",
            "0x55c2c76b4a60\n"
          ]
        }
      ]
    },
    {
      "cell_type": "markdown",
      "metadata": {
        "id": "qzN2iyiEOR8u"
      },
      "source": [
        "**Task 2:**\n",
        "\n",
        "create a class for a car:\n",
        "\n",
        "create 2 objects : BMW, Tesla\n",
        "\n",
        "change speed\n",
        "\n",
        "open lock\n",
        "\n",
        "check oil\n",
        "\n",
        "charage ( works if car is electrial ) else not gonna work\n",
        "\n",
        "filltank ( works if car is on oil ) else not gonna work"
      ]
    },
    {
      "cell_type": "code",
      "metadata": {
        "id": "45whWjrih73H"
      },
      "source": [
        "class Vehicle:\n",
        "    def __init__(self):\n",
        "      self.speed = int(input(\"please enter the speed: \"))\n",
        "      self.cartype = (input(\"please enter oil or electric: \"))\n",
        "      self.capacity = int(input(\"please enter your car available fuel or charge: \"))\n",
        "      self.__password = int(input(\"please enter your lock password: \"))\n",
        "\n",
        "\n",
        "    def changespeed(self):\n",
        "        self.newspeed = int(input(\"please enter the new speed: \"))\n",
        "        if self.newspeed != self.speed:\n",
        "            self.speed = self.newspeed\n",
        "            print (\"The new speed is:\",self.newspeed)\n",
        "        else: \n",
        "          print(\"The new speed is the same as the old one\")\n",
        "\n",
        "    def openlock(self, password):\n",
        "        if password == self.__password:\n",
        "            print (\"opened\")\n",
        "        else: \n",
        "          print(\"wrong password\")\n",
        "\n",
        "    def checkoil(self):\n",
        "        if self.cartype == \"oil\":\n",
        "            print (\"The capacity of tank is:\",self.capacity)\n",
        "        else: \n",
        "          print(\"The capacity of battery is:\",self.capacity)\n",
        "\n",
        "    def filltank(self):\n",
        "      if self.cartype == \"oil\":\n",
        "        print(\"Open your tank to fuel it up\")\n",
        "        extrafuel = int(input(\"please enter the amount:\"))\n",
        "        self.capacity += extrafuel\n",
        "        print (\"The new capacity is:\",self.capacity)\n",
        "      else:\n",
        "        print(\"Not gonna work\")\n",
        "\n",
        "    def charge(self):\n",
        "      if self.cartype == \"electric\":\n",
        "        print(\"Open your battery socket\")\n",
        "        extracharge = int(input(\"please enter the amount:\"))\n",
        "        self.capacity += extracharge\n",
        "        print (\"The new capacity is:\",self.capacity)\n",
        "      else:\n",
        "        print(\"Not gonna work\")"
      ],
      "execution_count": null,
      "outputs": []
    },
    {
      "cell_type": "code",
      "metadata": {
        "colab": {
          "base_uri": "https://localhost:8080/"
        },
        "id": "tztOT2Dn0GXz",
        "outputId": "f4831984-c021-40c2-ea92-e2994f4c179f"
      },
      "source": [
        "BMW=Vehicle()"
      ],
      "execution_count": null,
      "outputs": [
        {
          "name": "stdout",
          "output_type": "stream",
          "text": [
            "please enter the speed: 250\n",
            "please enter oil or electric: oil\n",
            "please enter your car available fuel or charge: 12\n",
            "please enter your lock password: 1234\n"
          ]
        }
      ]
    },
    {
      "cell_type": "code",
      "metadata": {
        "colab": {
          "base_uri": "https://localhost:8080/"
        },
        "id": "luyhg3aHr_RI",
        "outputId": "4e3f8a68-3166-419a-a287-e547ef4136c8"
      },
      "source": [
        "BMW.openlock(1234)"
      ],
      "execution_count": null,
      "outputs": [
        {
          "output_type": "stream",
          "name": "stdout",
          "text": [
            "opened\n"
          ]
        }
      ]
    },
    {
      "cell_type": "code",
      "metadata": {
        "colab": {
          "base_uri": "https://localhost:8080/"
        },
        "id": "2N2HMsdYj569",
        "outputId": "b61bfa6f-fb71-4d40-ed1e-92e3ac785245"
      },
      "source": [
        "BMW.speed"
      ],
      "execution_count": null,
      "outputs": [
        {
          "output_type": "execute_result",
          "data": {
            "text/plain": [
              "290"
            ]
          },
          "metadata": {},
          "execution_count": 98
        }
      ]
    },
    {
      "cell_type": "code",
      "metadata": {
        "colab": {
          "base_uri": "https://localhost:8080/"
        },
        "id": "ozZP8bwkkbP-",
        "outputId": "16d91732-ddf7-4ecf-a26e-d34e09674896"
      },
      "source": [
        "BMW.changespeed()"
      ],
      "execution_count": null,
      "outputs": [
        {
          "output_type": "stream",
          "name": "stdout",
          "text": [
            "please enter the new speed: 290\n",
            "The new speed is: 290\n"
          ]
        }
      ]
    },
    {
      "cell_type": "code",
      "metadata": {
        "colab": {
          "base_uri": "https://localhost:8080/"
        },
        "id": "nT6QMgmxm6Xd",
        "outputId": "f0e616a8-7ebb-4b62-f2ed-31df75310b66"
      },
      "source": [
        "BMW.filltank()"
      ],
      "execution_count": null,
      "outputs": [
        {
          "output_type": "stream",
          "name": "stdout",
          "text": [
            "Open your tank to fuel it up\n",
            "please enter the amount:12\n",
            "The new capacity is: 24\n"
          ]
        }
      ]
    },
    {
      "cell_type": "code",
      "metadata": {
        "id": "vmRI-Hlqu8E6",
        "colab": {
          "base_uri": "https://localhost:8080/"
        },
        "outputId": "30cae328-79ba-4bd7-f91c-16811ebc1847"
      },
      "source": [
        "BMW.charge()"
      ],
      "execution_count": null,
      "outputs": [
        {
          "output_type": "stream",
          "name": "stdout",
          "text": [
            "Not gonna work\n"
          ]
        }
      ]
    },
    {
      "cell_type": "code",
      "metadata": {
        "colab": {
          "base_uri": "https://localhost:8080/"
        },
        "id": "Lr26xTwDJWRK",
        "outputId": "1cc2d3f3-ae93-4dcd-a67c-4cfe9894f3d3"
      },
      "source": [
        "BMW.checkoil()"
      ],
      "execution_count": null,
      "outputs": [
        {
          "output_type": "stream",
          "name": "stdout",
          "text": [
            "The capacity of tank is: 24\n"
          ]
        }
      ]
    },
    {
      "cell_type": "code",
      "metadata": {
        "colab": {
          "base_uri": "https://localhost:8080/"
        },
        "id": "rhAQ1amSgpYb",
        "outputId": "9af7ef9c-91cb-4a48-b271-4f47a2d24669"
      },
      "source": [
        "Tesla = Vehicle()"
      ],
      "execution_count": null,
      "outputs": [
        {
          "name": "stdout",
          "output_type": "stream",
          "text": [
            "please enter the speed: 280\n",
            "please enter oil or electric: electric\n",
            "please enter your car available fuel or charge: 60\n",
            "please enter your lock password: 12345\n"
          ]
        }
      ]
    },
    {
      "cell_type": "code",
      "metadata": {
        "colab": {
          "base_uri": "https://localhost:8080/"
        },
        "id": "89GADsPejByq",
        "outputId": "fb0c0af7-799f-4d81-d680-83aa1ace9a2f"
      },
      "source": [
        "Tesla.openlock(12345)"
      ],
      "execution_count": null,
      "outputs": [
        {
          "output_type": "stream",
          "name": "stdout",
          "text": [
            "opened\n"
          ]
        }
      ]
    },
    {
      "cell_type": "code",
      "metadata": {
        "colab": {
          "base_uri": "https://localhost:8080/"
        },
        "id": "lV0pCCu3jJ8s",
        "outputId": "74f5f710-bac2-4b55-88c9-1a36cf6c8961"
      },
      "source": [
        "Tesla.speed"
      ],
      "execution_count": null,
      "outputs": [
        {
          "output_type": "execute_result",
          "data": {
            "text/plain": [
              "280"
            ]
          },
          "metadata": {},
          "execution_count": 106
        }
      ]
    },
    {
      "cell_type": "code",
      "metadata": {
        "colab": {
          "base_uri": "https://localhost:8080/"
        },
        "id": "_w_WedIRjNrR",
        "outputId": "b17fca69-0572-450c-e7f9-67a796e18e3c"
      },
      "source": [
        "Tesla.charge()"
      ],
      "execution_count": null,
      "outputs": [
        {
          "output_type": "stream",
          "name": "stdout",
          "text": [
            "Open your battery socket\n",
            "please enter the amount:30\n",
            "The new capacity is: 90\n"
          ]
        }
      ]
    },
    {
      "cell_type": "code",
      "metadata": {
        "colab": {
          "base_uri": "https://localhost:8080/"
        },
        "id": "wGOsre0ejP0-",
        "outputId": "886fa9a0-d13c-4f7e-d63c-eadafcd9bc0f"
      },
      "source": [
        "Tesla.checkoil()"
      ],
      "execution_count": null,
      "outputs": [
        {
          "output_type": "stream",
          "name": "stdout",
          "text": [
            "The capacity of battery is: 90\n"
          ]
        }
      ]
    },
    {
      "cell_type": "markdown",
      "metadata": {
        "id": "exWrThDFlLA2"
      },
      "source": [
        "Task 3:\n",
        "\n",
        " check whether python classes has protected or not, if yes, apply it."
      ]
    },
    {
      "cell_type": "markdown",
      "metadata": {
        "id": "a6CRbImCnsGV"
      },
      "source": [
        "Python doesn't have real private methods"
      ]
    }
  ]
}
